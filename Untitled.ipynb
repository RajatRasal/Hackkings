{
 "cells": [
  {
   "cell_type": "code",
   "execution_count": 2,
   "metadata": {},
   "outputs": [
    {
     "name": "stdout",
     "output_type": "stream",
     "text": [
      "INFO:tensorflow:Restoring parameters from /tmp/model.ckpt\n",
      "Model restored.\n"
     ]
    }
   ],
   "source": [
    "import tensorflow as tf\n",
    "import numpy as np\n",
    "from tensorflow.python.tools import inspect_checkpoint as chkp\n",
    "from sklearn.manifold import TSNE\n",
    "import matplotlib.pyplot as plt\n",
    "\n",
    "tf.reset_default_graph()\n",
    "\n",
    "# Create some variables.\n",
    "v1 = tf.get_variable(\"Variable\", shape=[2868364,4])\n",
    "\n",
    "# Add ops to save and restore all the variables.\n",
    "saver = tf.train.Saver({\"Variable\": v1})\n",
    "\n",
    "# Later, launch the model, use the saver to restore variables from disk, and\n",
    "# do some work with the model.\n",
    "with tf.Session() as sess:\n",
    "    # Restore variables from disk.\n",
    "    saver.restore(sess, \"/tmp/model.ckpt\")\n",
    "    print(\"Model restored.\")\n",
    "    # Check the values of the variables\n",
    "\n",
    "    wordVectors = v1.eval()"
   ]
  },
  {
   "cell_type": "code",
   "execution_count": 3,
   "metadata": {},
   "outputs": [
    {
     "name": "stdout",
     "output_type": "stream",
     "text": [
      "99989\n",
      "2\n"
     ]
    }
   ],
   "source": [
    "import pandas as pd\n",
    "import pickle\n",
    "import re\n",
    "\n",
    "all_tweets = pd.read_csv(\"data/random_tweets_sentiment.csv\", encoding=\"latin1\")\n",
    "all_tweets\n",
    "\n",
    "sentiment = all_tweets[\"Sentiment\"]\n",
    "\n",
    "arr = [] \n",
    "for s in sentiment:\n",
    "    if s == 1:\n",
    "        arr.append([0, 1])\n",
    "    else:\n",
    "        arr.append([1, 0])\n",
    "        \n",
    "print(len(arr))\n",
    "print(len(arr[0]))"
   ]
  },
  {
   "cell_type": "code",
   "execution_count": 4,
   "metadata": {},
   "outputs": [
    {
     "data": {
      "text/plain": [
       "(99989, 2)"
      ]
     },
     "execution_count": 4,
     "metadata": {},
     "output_type": "execute_result"
    }
   ],
   "source": [
    "arr = np.array(arr)\n",
    "arr.shape"
   ]
  },
  {
   "cell_type": "code",
   "execution_count": 5,
   "metadata": {},
   "outputs": [
    {
     "name": "stdout",
     "output_type": "stream",
     "text": [
      "133177\n",
      "20\n"
     ]
    }
   ],
   "source": [
    "tweets = np.load(\"data/tweets_integerized.npy\")\n",
    "tweets = [[item for item in sublist] for sublist in tweets]\n",
    "print(len(tweets))\n",
    "print(len(tweets[0]))"
   ]
  },
  {
   "cell_type": "code",
   "execution_count": 6,
   "metadata": {},
   "outputs": [],
   "source": [
    "# yy = tweets[0:50][:]\n",
    "# print(len(yy))\n",
    "# print(len(yy[4]))"
   ]
  },
  {
   "cell_type": "code",
   "execution_count": 7,
   "metadata": {},
   "outputs": [],
   "source": [
    "batch_size = 50\n",
    "lstm_units = 64\n",
    "num_classes = 2\n",
    "# iterations = 100000\n",
    "avg_seq_length = 25\n",
    "num_dimensions = 4"
   ]
  },
  {
   "cell_type": "code",
   "execution_count": 8,
   "metadata": {},
   "outputs": [],
   "source": [
    "tf.reset_default_graph()\n",
    "labels = tf.placeholder(tf.float32, [batch_size, num_classes])\n",
    "input_data = tf.placeholder(tf.int32, [batch_size, avg_seq_length])"
   ]
  },
  {
   "cell_type": "code",
   "execution_count": 9,
   "metadata": {},
   "outputs": [],
   "source": [
    "data = tf.Variable(tf.zeros([batch_size, avg_seq_length, num_dimensions]), dtype=tf.float32)\n",
    "data = tf.nn.embedding_lookup(wordVectors, input_data)"
   ]
  },
  {
   "cell_type": "code",
   "execution_count": 10,
   "metadata": {},
   "outputs": [],
   "source": [
    "lstm_cell = tf.contrib.rnn.BasicLSTMCell(lstm_units)\n",
    "lstm_cell = tf.contrib.rnn.DropoutWrapper(cell=lstm_cell, output_keep_prob=0.5)\n",
    "value, _ = tf.nn.dynamic_rnn(lstm_cell, data, dtype=tf.float32)"
   ]
  },
  {
   "cell_type": "code",
   "execution_count": 11,
   "metadata": {},
   "outputs": [],
   "source": [
    "weight = tf.Variable(tf.truncated_normal([lstm_units, num_classes]))\n",
    "bias = tf.Variable(tf.constant(0.1, shape=[num_classes]))\n",
    "value = tf.transpose(value, [1, 0, 2])\n",
    "last = tf.gather(value, int(value.get_shape()[0]) - 1)\n",
    "prediction = (tf.matmul(last, weight) + bias)"
   ]
  },
  {
   "cell_type": "code",
   "execution_count": 12,
   "metadata": {},
   "outputs": [],
   "source": [
    "correctPred = tf.equal(tf.argmax(prediction,1), tf.argmax(labels,1))\n",
    "accuracy = tf.reduce_mean(tf.cast(correctPred, tf.float32))"
   ]
  },
  {
   "cell_type": "code",
   "execution_count": 13,
   "metadata": {},
   "outputs": [
    {
     "name": "stdout",
     "output_type": "stream",
     "text": [
      "WARNING:tensorflow:From <ipython-input-13-7144ca71f943>:1: softmax_cross_entropy_with_logits (from tensorflow.python.ops.nn_ops) is deprecated and will be removed in a future version.\n",
      "Instructions for updating:\n",
      "\n",
      "Future major versions of TensorFlow will allow gradients to flow\n",
      "into the labels input on backprop by default.\n",
      "\n",
      "See @{tf.nn.softmax_cross_entropy_with_logits_v2}.\n",
      "\n"
     ]
    }
   ],
   "source": [
    "loss = tf.reduce_mean(tf.nn.softmax_cross_entropy_with_logits(logits=prediction, labels=labels))\n",
    "optimizer = tf.train.MomentumOptimizer(momentum=0.8, use_nesterov = True, learning_rate=0.001).minimize(loss)"
   ]
  },
  {
   "cell_type": "code",
   "execution_count": 25,
   "metadata": {},
   "outputs": [],
   "source": [
    "def populate_array(arr):\n",
    "    rows = batch_size\n",
    "    cols = avg_seq_length\n",
    "    \n",
    "    # print(\"HERE:\", rows, cols)\n",
    "    \n",
    "    np_arr = np.zeros((rows, cols))\n",
    "    \n",
    "    for j in range(min(rows, len(arr))):\n",
    "        for i in range(min(cols, len(arr[j]))):\n",
    "            np_arr[j, i] = arr[j][i]\n",
    "            # print(i, j)\n",
    "            \n",
    "    # print(np_arr)\n",
    "    \n",
    "    return np_arr"
   ]
  },
  {
   "cell_type": "code",
   "execution_count": 38,
   "metadata": {},
   "outputs": [
    {
     "name": "stderr",
     "output_type": "stream",
     "text": [
      "/home/joonho/anaconda3/lib/python3.6/site-packages/tensorflow/python/client/session.py:1645: UserWarning: An interactive session is already active. This can cause out-of-memory errors in some cases. You must explicitly call `InteractiveSession.close()` to release resources held by the other session(s).\n",
      "  warnings.warn('An interactive session is already active. This can '\n"
     ]
    },
    {
     "ename": "NameError",
     "evalue": "name 'InteractiveSession' is not defined",
     "output_type": "error",
     "traceback": [
      "\u001b[0;31m---------------------------------------------------------------------------\u001b[0m",
      "\u001b[0;31mNameError\u001b[0m                                 Traceback (most recent call last)",
      "\u001b[0;32m<ipython-input-38-95a41dc3f472>\u001b[0m in \u001b[0;36m<module>\u001b[0;34m()\u001b[0m\n\u001b[1;32m     27\u001b[0m         \u001b[0;31m# print(\"saved to %s\" % save_path)\u001b[0m\u001b[0;34m\u001b[0m\u001b[0;34m\u001b[0m\u001b[0m\n\u001b[1;32m     28\u001b[0m \u001b[0;34m\u001b[0m\u001b[0m\n\u001b[0;32m---> 29\u001b[0;31m \u001b[0mInteractiveSession\u001b[0m\u001b[0;34m.\u001b[0m\u001b[0mclose\u001b[0m\u001b[0;34m(\u001b[0m\u001b[0;34m)\u001b[0m\u001b[0;34m\u001b[0m\u001b[0m\n\u001b[0m",
      "\u001b[0;31mNameError\u001b[0m: name 'InteractiveSession' is not defined"
     ]
    }
   ],
   "source": [
    "sess = tf.InteractiveSession()\n",
    "saver = tf.train.Saver()\n",
    "sess.run(tf.global_variables_initializer())\n",
    "\n",
    "training_losses = []\n",
    "validation_losses = []\n",
    "\n",
    "for i in range(0, len(sentiment)-batch_size, batch_size):\n",
    "    max_b = min(i + batch_size, len(sentiment))\n",
    "    \n",
    "    tweet_batch = populate_array(tweets[i:max_b][0:avg_seq_length])\n",
    "    \n",
    "    # print(type(tweets))\n",
    "    # input_data = np.array(tweets[0:avg_seq_length])\n",
    "    # input_data = np.asmatrix(input_data)\n",
    "    # print(input_data.shape)\n",
    "    # print(input_data)\n",
    "    _, l = sess.run([optimizer, loss], {input_data: tweet_batch, labels: arr[i:max_b, :]})\n",
    "    \n",
    "    training_losses.append(l)\n",
    "    # print(\"i:\", i, \" loss:\", l, end=\" \")\n",
    "    \n",
    "    #Save the network every 10,000 training iterations\n",
    "    if (i % 10 == 0 and i != 0):\n",
    "        validation_losses.append(l)\n",
    "        save_path = saver.save(sess, \"models/pretrained_lstm.ckpt\", global_step=i)\n",
    "        # print(\"saved to %s\" % save_path)\n",
    "        \n",
    "InteractiveSession.close()"
   ]
  },
  {
   "cell_type": "code",
   "execution_count": 14,
   "metadata": {},
   "outputs": [
    {
     "ename": "TypeError",
     "evalue": "run() missing 1 required positional argument: 'fetches'",
     "output_type": "error",
     "traceback": [
      "\u001b[0;31m---------------------------------------------------------------------------\u001b[0m",
      "\u001b[0;31mTypeError\u001b[0m                                 Traceback (most recent call last)",
      "\u001b[0;32m<ipython-input-14-f570de318b29>\u001b[0m in \u001b[0;36m<module>\u001b[0;34m()\u001b[0m\n\u001b[1;32m      2\u001b[0m \u001b[0;32mimport\u001b[0m \u001b[0mmatplotlib\u001b[0m\u001b[0;34m.\u001b[0m\u001b[0mpyplot\u001b[0m \u001b[0;32mas\u001b[0m \u001b[0mplt\u001b[0m\u001b[0;34m\u001b[0m\u001b[0m\n\u001b[1;32m      3\u001b[0m \u001b[0;34m\u001b[0m\u001b[0m\n\u001b[0;32m----> 4\u001b[0;31m \u001b[0msess\u001b[0m\u001b[0;34m.\u001b[0m\u001b[0mrun\u001b[0m\u001b[0;34m(\u001b[0m\u001b[0;34m)\u001b[0m\u001b[0;34m\u001b[0m\u001b[0m\n\u001b[0m\u001b[1;32m      5\u001b[0m \u001b[0mplt\u001b[0m\u001b[0;34m.\u001b[0m\u001b[0mplot\u001b[0m\u001b[0;34m(\u001b[0m\u001b[0mtraining_losses\u001b[0m\u001b[0;34m)\u001b[0m\u001b[0;34m\u001b[0m\u001b[0m\n\u001b[1;32m      6\u001b[0m \u001b[0mplt\u001b[0m\u001b[0;34m.\u001b[0m\u001b[0mplot\u001b[0m\u001b[0;34m(\u001b[0m\u001b[0mvalidation_losses\u001b[0m\u001b[0;34m)\u001b[0m\u001b[0;34m\u001b[0m\u001b[0m\n",
      "\u001b[0;31mTypeError\u001b[0m: run() missing 1 required positional argument: 'fetches'"
     ]
    }
   ],
   "source": [
    "%matplotlib inline\n",
    "import matplotlib.pyplot as plt\n",
    "\n",
    "sess.run()\n",
    "plt.plot(training_losses)\n",
    "plt.plot(validation_losses)"
   ]
  },
  {
   "cell_type": "code",
   "execution_count": 15,
   "metadata": {},
   "outputs": [
    {
     "ename": "NameError",
     "evalue": "name 'validation_losses' is not defined",
     "output_type": "error",
     "traceback": [
      "\u001b[0;31m---------------------------------------------------------------------------\u001b[0m",
      "\u001b[0;31mNameError\u001b[0m                                 Traceback (most recent call last)",
      "\u001b[0;32m<ipython-input-15-98f18df3dbcb>\u001b[0m in \u001b[0;36m<module>\u001b[0;34m()\u001b[0m\n\u001b[1;32m      1\u001b[0m \u001b[0mplt\u001b[0m\u001b[0;34m.\u001b[0m\u001b[0mfigure\u001b[0m\u001b[0;34m(\u001b[0m\u001b[0mfigsize\u001b[0m\u001b[0;34m=\u001b[0m\u001b[0;34m(\u001b[0m\u001b[0;36m50\u001b[0m\u001b[0;34m,\u001b[0m\u001b[0;36m50\u001b[0m\u001b[0;34m)\u001b[0m\u001b[0;34m)\u001b[0m\u001b[0;34m\u001b[0m\u001b[0m\n\u001b[0;32m----> 2\u001b[0;31m \u001b[0mplt\u001b[0m\u001b[0;34m.\u001b[0m\u001b[0mplot\u001b[0m\u001b[0;34m(\u001b[0m\u001b[0mvalidation_losses\u001b[0m\u001b[0;34m)\u001b[0m\u001b[0;34m\u001b[0m\u001b[0m\n\u001b[0m\u001b[1;32m      3\u001b[0m \u001b[0mplt\u001b[0m\u001b[0;34m.\u001b[0m\u001b[0mplot\u001b[0m\u001b[0;34m(\u001b[0m\u001b[0mtraining_losses\u001b[0m\u001b[0;34m,\u001b[0m \u001b[0;34m\"x\"\u001b[0m\u001b[0;34m)\u001b[0m\u001b[0;34m\u001b[0m\u001b[0m\n",
      "\u001b[0;31mNameError\u001b[0m: name 'validation_losses' is not defined"
     ]
    },
    {
     "data": {
      "text/plain": [
       "<Figure size 3600x3600 with 0 Axes>"
      ]
     },
     "metadata": {},
     "output_type": "display_data"
    }
   ],
   "source": [
    "plt.figure(figsize=(50,50))\n",
    "plt.plot(validation_losses)\n",
    "plt.plot(training_losses, \"x\")"
   ]
  },
  {
   "cell_type": "code",
   "execution_count": 16,
   "metadata": {},
   "outputs": [],
   "source": [
    "with open(\"data/integerizedtrump.pkl\", \"rb\") as f:\n",
    "    trump_tweets = pickle.load(f)\n",
    "    \n",
    "tweet = trump_tweets"
   ]
  },
  {
   "cell_type": "code",
   "execution_count": null,
   "metadata": {},
   "outputs": [],
   "source": [
    "df = pd.read_csv(\"data/alltweets.csv\", encoding=\"latin1\")\n",
    "df.head\n",
    "\n",
    "\n",
    "import re\n",
    "\n",
    "integerized = []\n",
    "\n",
    "with open(\"data/tweets_wordlist.pkl\", \"rb\") as f:\n",
    "    wordlist = pickle.load(f)\n",
    "\n",
    "\n",
    "\n",
    "for i in range(len(df.text)):\n",
    "    new_tweet = []\n",
    "    yeet = list(set(re.split(\"( |[^a-zA-Z\\d])\", (df.text[i]).lower())))\n",
    "    for j in yeet:\n",
    "        try:\n",
    "            new_tweet.append(wordlist.index(j))\n",
    "        except:\n",
    "            pass\n",
    "    integerized.append(new_tweet)\n",
    "#wordlist = np.array(wordlist)\n",
    "\n",
    "integerized"
   ]
  },
  {
   "cell_type": "code",
   "execution_count": 27,
   "metadata": {},
   "outputs": [],
   "source": [
    "with open(\"data/trump_yeet.pkl\", \"wb\") as f:\n",
    "    pickle.dump(integerized, f)"
   ]
  },
  {
   "cell_type": "code",
   "execution_count": 32,
   "metadata": {},
   "outputs": [
    {
     "name": "stderr",
     "output_type": "stream",
     "text": [
      "/home/joonho/anaconda3/lib/python3.6/site-packages/tensorflow/python/client/session.py:1645: UserWarning: An interactive session is already active. This can cause out-of-memory errors in some cases. You must explicitly call `InteractiveSession.close()` to release resources held by the other session(s).\n",
      "  warnings.warn('An interactive session is already active. This can '\n"
     ]
    }
   ],
   "source": [
    "with open(\"data/trump_yeet.pkl\", \"rb\") as f:\n",
    "    integerized = pickle.load(f)\n",
    "\n",
    "sess = tf.InteractiveSession()\n",
    "sess.run(tf.global_variables_initializer())\n",
    "\n",
    "for i in range(0, len(integerized)-batch_size, batch_size):\n",
    "    max_b = min(i + batch_size, len(integerized))\n",
    "    batch = populate_array(integerized[i:max_b][0:avg_seq_length])\n",
    "    \n",
    "    pred = sess.run(prediction, feed_dict={input_data: batch})\n"
   ]
  },
  {
   "cell_type": "code",
   "execution_count": 59,
   "metadata": {},
   "outputs": [],
   "source": [
    "sents = [x if abs(x) > abs(y) else y for x, y in pred]"
   ]
  },
  {
   "cell_type": "code",
   "execution_count": 60,
   "metadata": {},
   "outputs": [],
   "source": [
    "tweets = pd.read_csv(\"data/alltweets.csv\", encoding=\"latin1\")"
   ]
  },
  {
   "cell_type": "code",
   "execution_count": 61,
   "metadata": {},
   "outputs": [],
   "source": [
    "tweets[\"sents\"] = pd.Series(sents)"
   ]
  },
  {
   "cell_type": "code",
   "execution_count": 62,
   "metadata": {},
   "outputs": [
    {
     "data": {
      "text/plain": [
       "0     12-08-2018 16:01:39\n",
       "1     12-08-2018 14:19:31\n",
       "2     12-08-2018 14:19:31\n",
       "3     12-08-2018 13:01:56\n",
       "4     12-08-2018 12:52:39\n",
       "5     12-08-2018 12:34:04\n",
       "6     12-08-2018 03:58:04\n",
       "7     12-07-2018 23:00:21\n",
       "8     12-07-2018 21:49:01\n",
       "9     12-07-2018 20:56:17\n",
       "10    12-07-2018 20:02:34\n",
       "11    12-07-2018 18:48:43\n",
       "12    12-07-2018 16:18:37\n",
       "13    12-07-2018 16:18:36\n",
       "14    12-07-2018 16:16:51\n",
       "15    12-07-2018 14:56:46\n",
       "16    12-07-2018 14:46:32\n",
       "17    12-07-2018 13:39:36\n",
       "18    12-07-2018 13:13:48\n",
       "19    12-07-2018 12:15:58\n",
       "20    12-07-2018 11:53:34\n",
       "21    12-07-2018 11:40:53\n",
       "22    12-07-2018 11:28:50\n",
       "23    12-07-2018 11:18:59\n",
       "24    12-07-2018 03:15:12\n",
       "25    12-07-2018 03:08:26\n",
       "26    12-07-2018 03:07:18\n",
       "27    12-07-2018 02:58:43\n",
       "28    12-07-2018 00:56:18\n",
       "29    12-07-2018 00:27:11\n",
       "30    12-06-2018 17:07:29\n",
       "31    12-06-2018 15:17:47\n",
       "32    12-06-2018 03:32:22\n",
       "33    12-06-2018 02:24:40\n",
       "34    12-05-2018 14:44:48\n",
       "35    12-05-2018 13:56:31\n",
       "36    12-05-2018 13:51:07\n",
       "37    12-05-2018 13:44:10\n",
       "38    12-05-2018 13:19:46\n",
       "39    12-05-2018 12:49:48\n",
       "40    12-05-2018 12:46:28\n",
       "41    12-05-2018 00:21:41\n",
       "42    12-05-2018 00:20:27\n",
       "43    12-04-2018 22:56:01\n",
       "44    12-04-2018 22:56:00\n",
       "45    12-04-2018 16:24:07\n",
       "46    12-04-2018 16:22:24\n",
       "47    12-04-2018 15:10:00\n",
       "48    12-04-2018 15:03:41\n",
       "49    12-04-2018 14:55:35\n",
       "Name: created_at, dtype: object"
      ]
     },
     "execution_count": 62,
     "metadata": {},
     "output_type": "execute_result"
    }
   ],
   "source": [
    "tweets[\"created_at\"][:len(sents)]"
   ]
  },
  {
   "cell_type": "code",
   "execution_count": 63,
   "metadata": {},
   "outputs": [
    {
     "data": {
      "text/plain": [
       "<BarContainer object of 50 artists>"
      ]
     },
     "execution_count": 63,
     "metadata": {},
     "output_type": "execute_result"
    },
    {
     "data": {
      "image/png": "[encoded data removed]",
      "text/plain": [
       "<Figure size 432x288 with 1 Axes>"
      ]
     },
     "metadata": {
      "needs_background": "light"
     },
     "output_type": "display_data"
    }
   ],
   "source": [
    "plt.bar(tweets[\"created_at\"][:len(sents)].values, tweets[\"sents\"][:len(sents)].values)"
   ]
  },
  {
   "cell_type": "code",
   "execution_count": null,
   "metadata": {},
   "outputs": [],
   "source": []
  }
 ],
 "metadata": {
  "kernelspec": {
   "display_name": "Python 3",
   "language": "python",
   "name": "python3"
  },
  "language_info": {
   "codemirror_mode": {
    "name": "ipython",
    "version": 3
   },
   "file_extension": ".py",
   "mimetype": "text/x-python",
   "name": "python",
   "nbconvert_exporter": "python",
   "pygments_lexer": "ipython3",
   "version": "3.6.6"
  }
 },
 "nbformat": 4,
 "nbformat_minor": 2
}
